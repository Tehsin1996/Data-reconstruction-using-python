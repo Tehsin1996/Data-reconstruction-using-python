{
 "cells": [
  {
   "cell_type": "code",
   "execution_count": 1,
   "metadata": {},
   "outputs": [],
   "source": [
    "import pandas as pd\n",
    "    \n",
    "data  = pd.read_excel('F:\\X149\\站距黏貼\\L100-300.xlsx', None)\n",
    "\n",
    "data.head(5)"
   ]
  },
  {
   "cell_type": "code",
   "execution_count": null,
   "metadata": {},
   "outputs": [],
   "source": [
    "data.keys()\n",
    "\n",
    "df_output = pd.DataFrame()\n",
    "for e in data.keys():\n",
    "    data1  = data[e]\n",
    "    data1 = data1.columns.to_frame().T.append(data1, ignore_index=True)\n",
    "    data1.columns = range(len(data1.columns))\n",
    "    data1 = data1.loc[:, :2]\n",
    "    data1.columns = ['編號', '站名', '實際距離']\n",
    "    data1['Route'] = data1['編號'].values[0]\n",
    "    data1 = data1.loc[2:]\n",
    "    data1['編號_index'] = data1['編號']\n",
    "    \n",
    "    ##calculate cumsum distance\n",
    "    df = pd.DataFrame()\n",
    "    for i in data1['編號_index'].unique():\n",
    "        for q in data1['編號'].unique():\n",
    "            k = data1['實際距離'].iloc[i:q].tolist()\n",
    "            p = data1['實際距離'].iloc[q:i].tolist()\n",
    "            j1 = round(sum(float(t) for t in k), 1)\n",
    "            j2 = round(sum(float(y) for y in p), 1)\n",
    "            j = j1+j2\n",
    "            df1 = pd.DataFrame({'seq_O': [i], 'seq_D': [q], 'distance_km':[j]})\n",
    "            df = df.append(df1, ignore_index=True)\n",
    "            #print(i, q, j)\n",
    "\n",
    "    Distance_cal = df[(df['seq_O']<df['seq_D'])]\n",
    "\n",
    "    ##merge data\n",
    "    df2 = Distance_cal.merge(data1, left_on='seq_O', right_on='編號')\n",
    "    df3 = df2[['Route', 'seq_O', '站名', 'seq_D', 'distance_km']]\n",
    "    df3['nameZh_O'] = df3['站名'] \n",
    "\n",
    "    df4 = df3.merge(data1, left_on='seq_D', right_on='編號')\n",
    "    df4['nameZh_D'] = df4['站名_y']\n",
    "    df4['Route'] = df4['Route_x']  \n",
    "    output = df4[['Route', 'seq_O', 'nameZh_O', 'seq_D', 'nameZh_D', 'distance_km']]\n",
    "    output = output.sort_values(by =['seq_O', 'seq_D'])\n",
    "    df_output = df_output.append(output, ignore_index=True)   \n",
    "    print(e)"
   ]
  },
  {
   "cell_type": "code",
   "execution_count": null,
   "metadata": {},
   "outputs": [],
   "source": [
    "df_output.tail(5)\n",
    "df_output.to_csv('output.csv',index = False, encoding='utf_8_sig')"
   ]
  }
 ],
 "metadata": {
  "kernelspec": {
   "display_name": "Python 3",
   "language": "python",
   "name": "python3"
  },
  "language_info": {
   "codemirror_mode": {
    "name": "ipython",
    "version": 3
   },
   "file_extension": ".py",
   "mimetype": "text/x-python",
   "name": "python",
   "nbconvert_exporter": "python",
   "pygments_lexer": "ipython3",
   "version": "3.7.6"
  }
 },
 "nbformat": 4,
 "nbformat_minor": 4
}
